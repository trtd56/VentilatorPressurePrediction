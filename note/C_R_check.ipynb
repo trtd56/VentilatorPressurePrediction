{
 "cells": [
  {
   "cell_type": "code",
   "execution_count": 3,
   "metadata": {},
   "outputs": [],
   "source": [
    "import pandas as pd"
   ]
  },
  {
   "cell_type": "code",
   "execution_count": 4,
   "metadata": {},
   "outputs": [],
   "source": [
    "train = pd.read_csv('../data/ventilator-pressure-prediction/train.csv')"
   ]
  },
  {
   "cell_type": "code",
   "execution_count": 5,
   "metadata": {},
   "outputs": [],
   "source": [
    "test = pd.read_csv('../data/ventilator-pressure-prediction/test.csv')"
   ]
  },
  {
   "cell_type": "code",
   "execution_count": 12,
   "metadata": {},
   "outputs": [],
   "source": [
    "for breath_id, df in train.groupby('breath_id'):\n",
    "    assert len(df[\"C\"].unique()) == 1\n",
    "    assert len(df[\"R\"].unique()) == 1"
   ]
  },
  {
   "cell_type": "code",
   "execution_count": 13,
   "metadata": {},
   "outputs": [],
   "source": [
    "for breath_id, df in test.groupby('breath_id'):\n",
    "    assert len(df[\"C\"].unique()) == 1\n",
    "    assert len(df[\"R\"].unique()) == 1"
   ]
  },
  {
   "cell_type": "code",
   "execution_count": 14,
   "metadata": {},
   "outputs": [
    {
     "data": {
      "text/plain": [
       "50    2410080\n",
       "5     1988800\n",
       "20    1637120\n",
       "Name: R, dtype: int64"
      ]
     },
     "execution_count": 14,
     "metadata": {},
     "output_type": "execute_result"
    }
   ],
   "source": [
    "train['R']"
   ]
  },
  {
   "cell_type": "code",
   "execution_count": 16,
   "metadata": {},
   "outputs": [
    {
     "data": {
      "text/plain": [
       "50.0_10.0    1094160\n",
       "5.0_10.0      664960\n",
       "5.0_20.0      662160\n",
       "5.0_50.0      661680\n",
       "50.0_20.0     660800\n",
       "50.0_50.0     655120\n",
       "20.0_50.0     654880\n",
       "20.0_20.0     496640\n",
       "20.0_10.0     485600\n",
       "Name: R_C, dtype: int64"
      ]
     },
     "execution_count": 16,
     "metadata": {},
     "output_type": "execute_result"
    }
   ],
   "source": [
    "train['R_C'] = train.apply(lambda x: str(x['R']) + \"_\" + str(x['C']), axis=1)\n",
    "train['R_C'].value_counts()"
   ]
  },
  {
   "cell_type": "code",
   "execution_count": 19,
   "metadata": {},
   "outputs": [
    {
     "data": {
      "text/plain": [
       "(6070,)"
      ]
     },
     "execution_count": 19,
     "metadata": {},
     "output_type": "execute_result"
    }
   ],
   "source": [
    "train.query(\"R_C=='20.0_10.0'\")['breath_id'].value_counts().shape"
   ]
  },
  {
   "cell_type": "code",
   "execution_count": 20,
   "metadata": {},
   "outputs": [
    {
     "data": {
      "text/plain": [
       "array(['20.0_50.0', '20.0_20.0', '50.0_20.0', '50.0_50.0', '5.0_50.0',\n",
       "       '5.0_20.0', '50.0_10.0', '20.0_10.0', '5.0_10.0'], dtype=object)"
      ]
     },
     "execution_count": 20,
     "metadata": {},
     "output_type": "execute_result"
    }
   ],
   "source": [
    "train['R_C'].unique()"
   ]
  },
  {
   "cell_type": "code",
   "execution_count": null,
   "metadata": {},
   "outputs": [],
   "source": []
  }
 ],
 "metadata": {
  "kernelspec": {
   "display_name": "Python 3",
   "language": "python",
   "name": "python3"
  },
  "language_info": {
   "codemirror_mode": {
    "name": "ipython",
    "version": 3
   },
   "file_extension": ".py",
   "mimetype": "text/x-python",
   "name": "python",
   "nbconvert_exporter": "python",
   "pygments_lexer": "ipython3",
   "version": "3.7.4"
  }
 },
 "nbformat": 4,
 "nbformat_minor": 2
}
